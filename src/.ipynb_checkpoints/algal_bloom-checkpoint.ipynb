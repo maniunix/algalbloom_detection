{
 "cells": [
  {
   "cell_type": "code",
   "execution_count": 6,
   "id": "77513316-7a1d-462a-9a5e-3c400e1921d8",
   "metadata": {},
   "outputs": [],
   "source": [
    "import ee\n",
    "import geemap\n",
    "import geopandas as gpd"
   ]
  },
  {
   "cell_type": "code",
   "execution_count": 7,
   "id": "1811d163-4aea-4153-b1cb-4f83b79e0e49",
   "metadata": {},
   "outputs": [],
   "source": [
    "Map = geemap.Map()\n",
    "shp_path = '../shp/IND_adm/IND_adm3.shp'\n",
    "gdf = gpd.read_file(shp_path)\n",
    "aoi = ee.Geometry.Polygon(list(gdf.loc[gdf['NAME_3'] == 'Nagpur'].\n",
    "     geometry.values[0].exterior.coords))"
   ]
  },
  {
   "cell_type": "code",
   "execution_count": 8,
   "id": "e75abec0-1101-460b-b0fc-51d5a44148e6",
   "metadata": {},
   "outputs": [],
   "source": [
    "class getAlgalbloom:\n",
    "    ################################################\n",
    "    #### NDCI [Normalized Difference Chlorophyll Index] Index is used to detect the Algal bloom.\n",
    "    #### The Steps carried out to achieve that are as follows:\n",
    "    #### 1. Apply Cloud mask function to Image collection\n",
    "    #### 2. Apply NDCI function\n",
    "    #### 3. Mask Image collection with values greater than or equal to 0 since we are intreseted in chlorophyll content.\n",
    "    #### 4. Get the Pixel count on every Satellite passing day\n",
    "    ################################################\n",
    "    def __init__(self,aoi, start_date,end_date, file_name,out_path):\n",
    "        self.aoi = aoi\n",
    "        self.start_date = start_date\n",
    "        self.end_date = end_date\n",
    "        self.file_name = file_name\n",
    "        self.out_path = out_path\n",
    "    \n",
    "    @staticmethod\n",
    "    def addNDCI(image):\n",
    "        ndci = image.normalizedDifference(['B5','B4']).rename('ndci')\n",
    "        return image.addBands(ndci)\n",
    "    \n",
    "    @staticmethod\n",
    "    def maskS2clouds(image):\n",
    "        qa = image.select('QA60')\n",
    "        cloudBitMask = 1 << 10\n",
    "        cirrusBitMask = 1 << 11\n",
    "        mask = qa.bitwiseAnd(cloudBitMask).eq(0) \\\n",
    "          .And(qa.bitwiseAnd(cirrusBitMask).eq(0))\n",
    "        return image.updateMask(mask)\n",
    "    \n",
    "    @staticmethod\n",
    "    def ndci_stats(image):\n",
    "        image = image.clip(aoi)\n",
    "        mask = image.gte(0)\n",
    "        ndci_masked = image.updateMask(mask)\n",
    "        stats = ndci_masked.reduceRegion(reducer = ee.Reducer.count(), \n",
    "                                         geometry = aoi, \n",
    "                                         scale = 10, \n",
    "                                         maxPixels = 996277242)\n",
    "        return ndci_masked.set(stats)\n",
    "    \n",
    "    def getNDCI(self):\n",
    "        image_collection = ee.ImageCollection(\"COPERNICUS/S2\") \\\n",
    "                      .filterBounds(self.aoi) \\\n",
    "                      .filterDate(self.start_date,self.end_date)\n",
    "        self.dataset = image_collection.map(self.maskS2clouds).map(self.addNDCI)\n",
    "        self.time_series = ee.FeatureCollection(self.dataset.select('ndci').map(self.ndci_stats))\n",
    "        return self.dataset\n",
    "    \n",
    "    def saveFC(self):\n",
    "        # Convert the Image collection to Feature collection in order to save as CSV\n",
    "        self.time_series = ee.FeatureCollection(self.dataset.select('ndci').map(self.ndci_stats))\n",
    "        time_fc = geemap.ee_export_vector(self.time_series, f'{self.out_path}/{self.file_name}.csv', verbose=True)\n",
    "        return f'File {self.file_name} is downloaded in {self.out_path}'"
   ]
  },
  {
   "cell_type": "code",
   "execution_count": 9,
   "id": "f1c624b6-ae45-4ace-9e85-0b372b220ec4",
   "metadata": {},
   "outputs": [
    {
     "name": "stdout",
     "output_type": "stream",
     "text": [
      "Generating URL ...\n",
      "Downloading data from https://earthengine.googleapis.com/v1alpha/projects/earthengine-legacy/tables/00e161f4534de7e611d6b531801b94e9-23a4010e0aeecde08541d9f297175c37:getFeatures\n",
      "Please wait ...\n",
      "Data downloaded to E:\\Workspace\\algal_bloom\\output\\foo.csv\n"
     ]
    },
    {
     "data": {
      "text/plain": [
       "'File foo is downloaded in E:/Workspace/algal_bloom/output'"
      ]
     },
     "execution_count": 9,
     "metadata": {},
     "output_type": "execute_result"
    }
   ],
   "source": [
    "foo_obj = getAlgalbloom(aoi,'2022-12-31','2023-01-10',file_name = 'foo', out_path = 'E:/Workspace/algal_bloom/output')\n",
    "foo_obj.getNDCI()\n",
    "foo_obj.saveFC()"
   ]
  },
  {
   "cell_type": "code",
   "execution_count": null,
   "id": "1945e19e-be70-4598-8084-7b52a357cebf",
   "metadata": {},
   "outputs": [],
   "source": []
  }
 ],
 "metadata": {
  "kernelspec": {
   "display_name": "Python 3 (ipykernel)",
   "language": "python",
   "name": "python3"
  },
  "language_info": {
   "codemirror_mode": {
    "name": "ipython",
    "version": 3
   },
   "file_extension": ".py",
   "mimetype": "text/x-python",
   "name": "python",
   "nbconvert_exporter": "python",
   "pygments_lexer": "ipython3",
   "version": "3.8.13"
  }
 },
 "nbformat": 4,
 "nbformat_minor": 5
}
