{
 "cells": [
  {
   "cell_type": "code",
   "execution_count": 1,
   "id": "77513316-7a1d-462a-9a5e-3c400e1921d8",
   "metadata": {},
   "outputs": [],
   "source": [
    "import ee\n",
    "import geemap\n",
    "import geopandas as gpd\n",
    "import glob\n",
    "import numpy as np\n",
    "import matplotlib.pyplot as plt\n",
    "import pandas as pd\n",
    "from datetime import datetime"
   ]
  },
  {
   "cell_type": "code",
   "execution_count": 2,
   "id": "757460ee-79a1-42d6-b4d8-a45cad753cc5",
   "metadata": {},
   "outputs": [
    {
     "data": {
      "text/html": [
       "<p>To authorize access needed by Earth Engine, open the following\n",
       "        URL in a web browser and follow the instructions:</p>\n",
       "        <p><a href=https://code.earthengine.google.com/client-auth?scopes=https%3A//www.googleapis.com/auth/earthengine%20https%3A//www.googleapis.com/auth/devstorage.full_control&request_id=91GNKS3-eAH__yvKG4SmxIe5iHwO_IlJpsYixRt3Xzk&tc=VO6_okz0hm9uMdAcIKUDH214DW5UzP2Bor-1oyQKbvo&cc=rPj-Ffo2IyhFc53OnukLrho6ijB3zr_43ODXJuUu1Cc>https://code.earthengine.google.com/client-auth?scopes=https%3A//www.googleapis.com/auth/earthengine%20https%3A//www.googleapis.com/auth/devstorage.full_control&request_id=91GNKS3-eAH__yvKG4SmxIe5iHwO_IlJpsYixRt3Xzk&tc=VO6_okz0hm9uMdAcIKUDH214DW5UzP2Bor-1oyQKbvo&cc=rPj-Ffo2IyhFc53OnukLrho6ijB3zr_43ODXJuUu1Cc</a></p>\n",
       "        <p>The authorization workflow will generate a code, which you should paste in the box below.</p>\n",
       "        "
      ],
      "text/plain": [
       "<IPython.core.display.HTML object>"
      ]
     },
     "metadata": {},
     "output_type": "display_data"
    },
    {
     "name": "stdin",
     "output_type": "stream",
     "text": [
      "Enter verification code:  4/1AWtgzh7Hpsflp53FE9iFSgHx_VCEm1N6Ykr5O6z3t6InazsIG4AuhUG2SRs\n"
     ]
    },
    {
     "name": "stdout",
     "output_type": "stream",
     "text": [
      "\n",
      "Successfully saved authorization token.\n"
     ]
    }
   ],
   "source": [
    "Map = geemap.Map()"
   ]
  },
  {
   "cell_type": "code",
   "execution_count": 3,
   "id": "1811d163-4aea-4153-b1cb-4f83b79e0e49",
   "metadata": {},
   "outputs": [
    {
     "data": {
      "text/plain": [
       "'60706'"
      ]
     },
     "execution_count": 3,
     "metadata": {},
     "output_type": "execute_result"
    }
   ],
   "source": [
    "farm_path = 'E:\\\\Satyukt\\\\algal_bloom\\\\shapefile\\\\*.shp'\n",
    "farms = glob.glob(farm_path)\n",
    "farm_name = farms[0].split(\"\\\\\")[-1].split(\".\")[0]\n",
    "farm_1 = gpd.read_file(farms[0])\n",
    "aoi = ee.Geometry.Polygon(list(farm_1['geometry'][0].exterior.coords))\n",
    "farm_name"
   ]
  },
  {
   "cell_type": "code",
   "execution_count": 24,
   "id": "e75abec0-1101-460b-b0fc-51d5a44148e6",
   "metadata": {},
   "outputs": [],
   "source": [
    "class getAlgalbloom:\n",
    "    ################################################\n",
    "    #### NDCI [Normalized Difference Chlorophyll Index] Index is used to detect the Algal bloom.\n",
    "    ################################################\n",
    "    def __init__(self,aoi, start_date,end_date, out_path):\n",
    "        self.aoi = aoi\n",
    "        self.start_date = start_date\n",
    "        self.end_date = end_date\n",
    "        self.out_path = out_path\n",
    "    \n",
    "    @staticmethod\n",
    "    def addNDCI(image):\n",
    "        ndci = image.normalizedDifference(['B5','B4']).rename('ndci')\n",
    "        return image.addBands(ndci)\n",
    "    \n",
    "    @staticmethod\n",
    "    def maskS2clouds(image):\n",
    "        qa = image.select('QA60')\n",
    "        cloudBitMask = 1 << 10\n",
    "        cirrusBitMask = 1 << 11\n",
    "        mask = qa.bitwiseAnd(cloudBitMask).eq(0) \\\n",
    "          .And(qa.bitwiseAnd(cirrusBitMask).eq(0))\n",
    "        return image.updateMask(mask)\n",
    "    \n",
    "    @staticmethod\n",
    "    def ndci_stats(image):\n",
    "        image = image.clip(aoi)\n",
    "        mask = image.gte(0)\n",
    "        ndci_masked = image.updateMask(mask)\n",
    "        stats = ndci_masked.reduceRegion(reducer = ee.Reducer.count(), geometry = aoi, scale = 10)\n",
    "        return ndci_masked.set(stats)\n",
    "    \n",
    "    def getNDCI(self):\n",
    "        image_collection = ee.ImageCollection(\"COPERNICUS/S2\") \\\n",
    "                      .filterBounds(aoi) \\\n",
    "                      .filterDate(start_date,end_date)\n",
    "        dataset = image_collection.map(maskS2clouds).map(addNDCI)\n",
    "        time_series = ee.FeatureCollection(dataset.select('ndci').map(ndci_stats))\n",
    "        time_fc = geemap.ee_export_vector(time_series, f'{self.out_path}/{self.file_name}.csv', verbose=True)\n",
    "        return geemap.ee_to_pandas(time_series)"
   ]
  },
  {
   "cell_type": "code",
   "execution_count": 25,
   "id": "84208333-91c7-41e7-892f-a42e8f6e458d",
   "metadata": {},
   "outputs": [
    {
     "ename": "Exception",
     "evalue": "\"['system:footprint', 'system:id', 'system:version', 'system:time_end', 'system:time_start', 'system:asset_size', 'system:bands', 'system:band_names'] not in index\"",
     "output_type": "error",
     "traceback": [
      "\u001b[1;31m---------------------------------------------------------------------------\u001b[0m",
      "\u001b[1;31mKeyError\u001b[0m                                  Traceback (most recent call last)",
      "File \u001b[1;32m~\\miniconda3\\envs\\gis\\lib\\site-packages\\geemap\\common.py:8707\u001b[0m, in \u001b[0;36mee_to_df\u001b[1;34m(ee_object, col_names, sort_columns, **kwargs)\u001b[0m\n\u001b[0;32m   8705\u001b[0m     \u001b[38;5;28;01mraise\u001b[39;00m \u001b[38;5;167;01mTypeError\u001b[39;00m(\u001b[38;5;124m\"\u001b[39m\u001b[38;5;124mcol_names must be a list\u001b[39m\u001b[38;5;124m\"\u001b[39m)\n\u001b[1;32m-> 8707\u001b[0m df \u001b[38;5;241m=\u001b[39m \u001b[43mdf\u001b[49m\u001b[43m[\u001b[49m\u001b[43mcol_names\u001b[49m\u001b[43m]\u001b[49m\n\u001b[0;32m   8709\u001b[0m \u001b[38;5;28;01mif\u001b[39;00m sort_columns:\n",
      "File \u001b[1;32m~\\miniconda3\\envs\\gis\\lib\\site-packages\\pandas\\core\\frame.py:3811\u001b[0m, in \u001b[0;36mDataFrame.__getitem__\u001b[1;34m(self, key)\u001b[0m\n\u001b[0;32m   3810\u001b[0m         key \u001b[38;5;241m=\u001b[39m \u001b[38;5;28mlist\u001b[39m(key)\n\u001b[1;32m-> 3811\u001b[0m     indexer \u001b[38;5;241m=\u001b[39m \u001b[38;5;28;43mself\u001b[39;49m\u001b[38;5;241;43m.\u001b[39;49m\u001b[43mcolumns\u001b[49m\u001b[38;5;241;43m.\u001b[39;49m\u001b[43m_get_indexer_strict\u001b[49m\u001b[43m(\u001b[49m\u001b[43mkey\u001b[49m\u001b[43m,\u001b[49m\u001b[43m \u001b[49m\u001b[38;5;124;43m\"\u001b[39;49m\u001b[38;5;124;43mcolumns\u001b[39;49m\u001b[38;5;124;43m\"\u001b[39;49m\u001b[43m)\u001b[49m[\u001b[38;5;241m1\u001b[39m]\n\u001b[0;32m   3813\u001b[0m \u001b[38;5;66;03m# take() does not accept boolean indexers\u001b[39;00m\n",
      "File \u001b[1;32m~\\miniconda3\\envs\\gis\\lib\\site-packages\\pandas\\core\\indexes\\base.py:6108\u001b[0m, in \u001b[0;36mIndex._get_indexer_strict\u001b[1;34m(self, key, axis_name)\u001b[0m\n\u001b[0;32m   6106\u001b[0m     keyarr, indexer, new_indexer \u001b[38;5;241m=\u001b[39m \u001b[38;5;28mself\u001b[39m\u001b[38;5;241m.\u001b[39m_reindex_non_unique(keyarr)\n\u001b[1;32m-> 6108\u001b[0m \u001b[38;5;28;43mself\u001b[39;49m\u001b[38;5;241;43m.\u001b[39;49m\u001b[43m_raise_if_missing\u001b[49m\u001b[43m(\u001b[49m\u001b[43mkeyarr\u001b[49m\u001b[43m,\u001b[49m\u001b[43m \u001b[49m\u001b[43mindexer\u001b[49m\u001b[43m,\u001b[49m\u001b[43m \u001b[49m\u001b[43maxis_name\u001b[49m\u001b[43m)\u001b[49m\n\u001b[0;32m   6110\u001b[0m keyarr \u001b[38;5;241m=\u001b[39m \u001b[38;5;28mself\u001b[39m\u001b[38;5;241m.\u001b[39mtake(indexer)\n",
      "File \u001b[1;32m~\\miniconda3\\envs\\gis\\lib\\site-packages\\pandas\\core\\indexes\\base.py:6171\u001b[0m, in \u001b[0;36mIndex._raise_if_missing\u001b[1;34m(self, key, indexer, axis_name)\u001b[0m\n\u001b[0;32m   6170\u001b[0m not_found \u001b[38;5;241m=\u001b[39m \u001b[38;5;28mlist\u001b[39m(ensure_index(key)[missing_mask\u001b[38;5;241m.\u001b[39mnonzero()[\u001b[38;5;241m0\u001b[39m]]\u001b[38;5;241m.\u001b[39munique())\n\u001b[1;32m-> 6171\u001b[0m \u001b[38;5;28;01mraise\u001b[39;00m \u001b[38;5;167;01mKeyError\u001b[39;00m(\u001b[38;5;124mf\u001b[39m\u001b[38;5;124m\"\u001b[39m\u001b[38;5;132;01m{\u001b[39;00mnot_found\u001b[38;5;132;01m}\u001b[39;00m\u001b[38;5;124m not in index\u001b[39m\u001b[38;5;124m\"\u001b[39m)\n",
      "\u001b[1;31mKeyError\u001b[0m: \"['system:footprint', 'system:id', 'system:version', 'system:time_end', 'system:time_start', 'system:asset_size', 'system:bands', 'system:band_names'] not in index\"",
      "\nDuring handling of the above exception, another exception occurred:\n",
      "\u001b[1;31mException\u001b[0m                                 Traceback (most recent call last)",
      "Cell \u001b[1;32mIn [25], line 4\u001b[0m\n\u001b[0;32m      2\u001b[0m end_date \u001b[38;5;241m=\u001b[39m \u001b[38;5;124m\"\u001b[39m\u001b[38;5;124m2022-09-28\u001b[39m\u001b[38;5;124m\"\u001b[39m\n\u001b[0;32m      3\u001b[0m test_obj \u001b[38;5;241m=\u001b[39m getAlgalbloom(aoi,start_date,end_date)\n\u001b[1;32m----> 4\u001b[0m \u001b[43mtest_obj\u001b[49m\u001b[38;5;241;43m.\u001b[39;49m\u001b[43mgetNDCI\u001b[49m\u001b[43m(\u001b[49m\u001b[43m)\u001b[49m\n",
      "Cell \u001b[1;32mIn [24], line 38\u001b[0m, in \u001b[0;36mgetAlgalbloom.getNDCI\u001b[1;34m(self)\u001b[0m\n\u001b[0;32m     36\u001b[0m dataset \u001b[38;5;241m=\u001b[39m image_collection\u001b[38;5;241m.\u001b[39mmap(maskS2clouds)\u001b[38;5;241m.\u001b[39mmap(addNDCI)\n\u001b[0;32m     37\u001b[0m time_series \u001b[38;5;241m=\u001b[39m ee\u001b[38;5;241m.\u001b[39mFeatureCollection(dataset\u001b[38;5;241m.\u001b[39mselect(\u001b[38;5;124m'\u001b[39m\u001b[38;5;124mndci\u001b[39m\u001b[38;5;124m'\u001b[39m)\u001b[38;5;241m.\u001b[39mmap(ndci_stats))\n\u001b[1;32m---> 38\u001b[0m \u001b[38;5;28;01mreturn\u001b[39;00m \u001b[43mgeemap\u001b[49m\u001b[38;5;241;43m.\u001b[39;49m\u001b[43mee_to_pandas\u001b[49m\u001b[43m(\u001b[49m\u001b[43mtime_series\u001b[49m\u001b[43m)\u001b[49m\n",
      "File \u001b[1;32m~\\miniconda3\\envs\\gis\\lib\\site-packages\\geemap\\common.py:8714\u001b[0m, in \u001b[0;36mee_to_df\u001b[1;34m(ee_object, col_names, sort_columns, **kwargs)\u001b[0m\n\u001b[0;32m   8712\u001b[0m     \u001b[38;5;28;01mreturn\u001b[39;00m df\n\u001b[0;32m   8713\u001b[0m \u001b[38;5;28;01mexcept\u001b[39;00m \u001b[38;5;167;01mException\u001b[39;00m \u001b[38;5;28;01mas\u001b[39;00m e:\n\u001b[1;32m-> 8714\u001b[0m     \u001b[38;5;28;01mraise\u001b[39;00m \u001b[38;5;167;01mException\u001b[39;00m(e)\n",
      "\u001b[1;31mException\u001b[0m: \"['system:footprint', 'system:id', 'system:version', 'system:time_end', 'system:time_start', 'system:asset_size', 'system:bands', 'system:band_names'] not in index\""
     ]
    }
   ],
   "source": [
    "start_date = \"2022-03-01\"\n",
    "end_date = \"2022-09-28\"\n",
    "test_obj = getAlgalbloom(aoi,start_date,end_date)\n",
    "test_obj.getNDCI()"
   ]
  },
  {
   "cell_type": "code",
   "execution_count": 4,
   "id": "d99742a0-5a52-4c4e-8da7-94ecabf18164",
   "metadata": {},
   "outputs": [],
   "source": [
    "\n",
    "def addNDCI(image):\n",
    "  ndci = image.normalizedDifference(['B5','B4']).rename('ndci')\n",
    "  return image.addBands(ndci)\n",
    "## Spectral Indices Functions\n",
    "def addNDVI(image):\n",
    "  ndvi = image.normalizedDifference(['B8','B4']).rename('ndvi')\n",
    "  return image.addBands(ndvi)\n",
    "\n",
    "def addNDCI(image):\n",
    "    ndci = image.normalizedDifference(['B5','B4']).rename('ndci')\n",
    "    return image.addBands(ndci)\n",
    "\n",
    "def B8AB4(image):\n",
    "    b8b4 = image.normalizedDifference(['B8A','B4']).rename('b8b4')\n",
    "    return image.addBands(b8b4)\n",
    "\n",
    "def B3B2(image):    \n",
    "    b3b2 = image.normalizedDifference(['B3','B2']).rename('b3b2')\n",
    "    return image.addBands(b3b2)\n",
    "\n",
    "def maskS2clouds(image):\n",
    "    qa = image.select('QA60')\n",
    "    cloudBitMask = 1 << 10\n",
    "    cirrusBitMask = 1 << 11\n",
    "    mask = qa.bitwiseAnd(cloudBitMask).eq(0) \\\n",
    "      .And(qa.bitwiseAnd(cirrusBitMask).eq(0))\n",
    "    return image.updateMask(mask)\n",
    "\n",
    "def ndci_stats(image):\n",
    "    image = image.clip(aoi)\n",
    "    mask = image.gte(0)\n",
    "    ndci_masked = image.updateMask(mask)\n",
    "    stats = ndci_masked.reduceRegion(reducer = ee.Reducer.count(), geometry = aoi, scale = 10)\n",
    "    return ndci_masked.set(stats)"
   ]
  },
  {
   "cell_type": "code",
   "execution_count": 32,
   "id": "d6ffea41-a8a6-484f-b13d-2001cf21d3c5",
   "metadata": {},
   "outputs": [],
   "source": [
    "def getNDCIPixelCount(farm, start_date, end_date):\n",
    "    farm_1 = gpd.read_file(farm)\n",
    "    farm_name = farm.split(\"\\\\\")[-1].split(\".\")[0]\n",
    "    aoi = ee.Geometry.Polygon(list(farm_1['geometry'][0].exterior.coords))\n",
    "    image_collection = ee.ImageCollection(\"COPERNICUS/S2\") \\\n",
    "                      .filterBounds(aoi) \\\n",
    "                      .filterDate(start_date,end_date)\n",
    "    dataset = image_collection.map(maskS2clouds).map(addNDCI)\n",
    "    time_series = ee.FeatureCollection(dataset.select('ndci').map(ndci_stats))\n",
    "    time_fc = geemap.ee_export_vector(time_series, f\"E:\\\\Satyukt\\\\algal_bloom\\\\csv\\\\{farm_name}.csv\", verbose=True)\n",
    "#     data = pd.read_csv(f\"E:\\\\Satyukt\\\\algal_bloom\\\\csv\\\\{farm_name}.csv\")\n",
    "#     ## Getting the Pixel counts from ee.Image\n",
    "#     total_pixels = dataset.select('ndci').first().reduceRegion(reducer = ee.Reducer.count(), geometry = aoi).getInfo()['ndci']\n",
    "#     ## Removing the outliers \n",
    "#     data = data[data['ndci'] <= 8000]\n",
    "\n",
    "#     # Create New column with the total percent of NDCI pixels\n",
    "#     data['NDCI Percent present'] = [x/ total_pixels * 100 for x in data['ndci']]\n",
    "\n",
    "#     # Create a Date column\n",
    "#     data['date'] = [datetime.strptime(x.split('_')[0].split('T')[0],\"%Y%m%d\").strftime(\"%m/%d\") for x in data['system:index']]\n",
    "    \n",
    "#     fig, ax = plt.subplots(figsize = (12,12))\n",
    "#     plt.plot(data['date'],data['NDCI Percent present'])\n",
    "#     plt.ylim(0,100)\n",
    "#     plt.xticks(rotation=45)\n",
    "#     plt.xlabel(\"Months\")\n",
    "#     plt.ylabel('NDCI Pixel Percent')\n",
    "#     plt.title('NDCI Pixel count % from March to August')\n",
    "#     plt.savefig(f\"E:\\\\Satyukt\\\\algal_bloom\\\\csv\\\\{farm_name}.png\")"
   ]
  },
  {
   "cell_type": "code",
   "execution_count": 33,
   "id": "229f98cd-2d3b-44d5-9e92-adc08e2bd99f",
   "metadata": {},
   "outputs": [],
   "source": [
    "# start_date = \"2022-03-01\"\n",
    "# end_date = \"2022-09-28\"\n",
    "# for farm in farms:\n",
    "#     getNDCIPixelCount(farm, start_date,end_date)"
   ]
  },
  {
   "cell_type": "code",
   "execution_count": 5,
   "id": "0b709849-65c1-4f51-af14-c720ab9d075a",
   "metadata": {},
   "outputs": [],
   "source": [
    "geometry = aoi\n",
    "start_date = \"2022-03-01\"\n",
    "end_date = \"2022-09-28\"\n",
    "image_collection = ee.ImageCollection(\"COPERNICUS/S2\") \\\n",
    "                      .filterBounds(geometry) \\\n",
    "                      .filterDate(start_date,end_date)"
   ]
  },
  {
   "cell_type": "code",
   "execution_count": 6,
   "id": "89d29697-adb2-4ad0-849e-1b6e99c7112e",
   "metadata": {},
   "outputs": [
    {
     "name": "stdout",
     "output_type": "stream",
     "text": [
      "9108\n"
     ]
    }
   ],
   "source": [
    "dataset = image_collection.map(maskS2clouds).map(addNDVI).map(addNDCI).map(B8AB4).map(B3B2)\n",
    "# viz_params = {'palette':['red','blue','green','white'],\n",
    "#   'reducer': ee.Reducer.mean(),\n",
    "#   'min':-0.5,\n",
    "#   'max': 0.5\n",
    "# }\n",
    "\n",
    "ndci = dataset.select('ndci').mean()\n",
    "mask = ndci.gte(0)\n",
    "masked_ndci = ndci.updateMask(mask)\n",
    "\n",
    "stats = masked_ndci.reduceRegion(reducer = ee.Reducer.count(), geometry = geometry, scale = 10)\n",
    "# print(stats.getInfo()['ndci'])\n"
   ]
  },
  {
   "cell_type": "code",
   "execution_count": 9,
   "id": "9c4b4c2a-2dc6-42e0-add9-2a5f1e048cf6",
   "metadata": {},
   "outputs": [
    {
     "data": {
      "application/vnd.jupyter.widget-view+json": {
       "model_id": "afcd0a8e386248bdad0afb65d7ca1922",
       "version_major": 2,
       "version_minor": 0
      },
      "text/plain": [
       "Map(bottom=1625990.0, center=[37.46872730490628, -121.86554431915285], controls=(WidgetControl(options=['posit…"
      ]
     },
     "execution_count": 9,
     "metadata": {},
     "output_type": "execute_result"
    }
   ],
   "source": [
    "Map.addLayer(masked_ndci.clip(aoi))\n",
    "Map.centerObject(aoi)\n",
    "Map"
   ]
  },
  {
   "cell_type": "code",
   "execution_count": 22,
   "id": "ce2ffe69-60a9-40fe-b49e-2c34c8756f7a",
   "metadata": {},
   "outputs": [],
   "source": [
    "# Function to get the NDCI Pixel count stats\n",
    "def ndci_stats(image):\n",
    "    image = image.clip(geometry)\n",
    "    mask = image.gte(0)\n",
    "    ndci_masked = image.updateMask(mask)\n",
    "    stats = ndci_masked.reduceRegion(reducer = ee.Reducer.count(), geometry = geometry, scale = 10)\n",
    "    return ndci_masked.set(stats)\n",
    "    # return ls.append(stats.getInfo['ndci'])"
   ]
  },
  {
   "cell_type": "code",
   "execution_count": 23,
   "id": "01011212-1f02-43db-bd90-e9d5fa003d99",
   "metadata": {},
   "outputs": [
    {
     "name": "stdout",
     "output_type": "stream",
     "text": [
      "Generating URL ...\n",
      "Downloading data from https://earthengine.googleapis.com/v1alpha/projects/earthengine-legacy/tables/37aad9ae67777b286dfc9eee4f43e1e3-eb785a155a7090b2b409d92924853049:getFeatures\n",
      "Please wait ...\n",
      "Data downloaded to E:\\Satyukt\\algal_bloom\\csv\\60706.csv\n"
     ]
    }
   ],
   "source": [
    "# collection = dataset.select('ndci').map(ndci_stats)\n",
    "time_series = ee.FeatureCollection(dataset.select('ndci').map(ndci_stats))\n",
    "geemap.ee_export_vector(time_series, f\"E:\\\\Satyukt\\\\algal_bloom\\\\csv\\\\{farm_name}.csv\", verbose=True)"
   ]
  },
  {
   "cell_type": "code",
   "execution_count": 26,
   "id": "eb65d6be-870f-4df9-b311-012bc9b8ea34",
   "metadata": {},
   "outputs": [],
   "source": [
    "farm_name = \"60707\"\n",
    "data = pd.read_csv(f\"E:\\\\Satyukt\\\\algal_bloom\\\\csv\\\\{farm_name}.csv\")\n",
    "\n",
    "\n",
    "## Getting the Pixel counts from ee.Image\n",
    "total_pixels = dataset.select('ndci').first().reduceRegion(reducer = ee.Reducer.count(), geometry = geometry).getInfo()['ndci']\n",
    "\n",
    "## Removing the outliers \n",
    "data = data[data['ndci'] <= 12000]\n",
    "\n",
    "# Create New column with the total percent of NDCI pixels\n",
    "data['NDCI Percent present'] = [x/ total_pixels * 100 for x in data['ndci']]\n",
    "\n",
    "# Create a Date column\n",
    "data['date'] = [datetime.strptime(x.split('_')[0].split('T')[0],\"%Y%m%d\").strftime(\"%m/%d\") for x in data['system:index']]"
   ]
  },
  {
   "cell_type": "code",
   "execution_count": 27,
   "id": "3d71b786-bb9d-4694-87c8-905059f6cc1b",
   "metadata": {},
   "outputs": [
    {
     "data": {
      "text/plain": [
       "Text(0.5, 1.0, 'NDCI Pixel count % from March to August')"
      ]
     },
     "execution_count": 27,
     "metadata": {},
     "output_type": "execute_result"
    },
    {
     "data": {
      "image/png": "[encoded data removed]",
      "text/plain": [
       "<Figure size 1200x1200 with 1 Axes>"
      ]
     },
     "metadata": {},
     "output_type": "display_data"
    }
   ],
   "source": [
    "fig, ax = plt.subplots(figsize = (12,12))\n",
    "plt.bar(data['date'],data['NDCI Percent present'])\n",
    "plt.ylim(0,100)\n",
    "plt.xticks(rotation=45)\n",
    "plt.xlabel(\"Months\")\n",
    "plt.ylabel('NDCI Pixel Percent')\n",
    "plt.title('NDCI Pixel count % from March to August')\n",
    "# plt.savefig(\"E:\\\\Satyukt\\\\algal_bloom\\\\csv\\\\NDCI.png\")"
   ]
  },
  {
   "cell_type": "code",
   "execution_count": 167,
   "id": "ed73e038-a4de-48c7-91bb-b901f2d42905",
   "metadata": {},
   "outputs": [],
   "source": [
    "# new_df = data[['date','ndci','NDCI Percent present']]\n",
    "# new_df.columns = ['Date','NDCI','Pixel Percent']\n",
    "# new_df.to_csv('E:\\\\Satyukt\\\\algal_bloom\\\\csv\\\\NDCI_algae.csv', index = False)"
   ]
  }
 ],
 "metadata": {
  "kernelspec": {
   "display_name": "Python 3 (ipykernel)",
   "language": "python",
   "name": "python3"
  },
  "language_info": {
   "codemirror_mode": {
    "name": "ipython",
    "version": 3
   },
   "file_extension": ".py",
   "mimetype": "text/x-python",
   "name": "python",
   "nbconvert_exporter": "python",
   "pygments_lexer": "ipython3",
   "version": "3.8.13"
  }
 },
 "nbformat": 4,
 "nbformat_minor": 5
}
